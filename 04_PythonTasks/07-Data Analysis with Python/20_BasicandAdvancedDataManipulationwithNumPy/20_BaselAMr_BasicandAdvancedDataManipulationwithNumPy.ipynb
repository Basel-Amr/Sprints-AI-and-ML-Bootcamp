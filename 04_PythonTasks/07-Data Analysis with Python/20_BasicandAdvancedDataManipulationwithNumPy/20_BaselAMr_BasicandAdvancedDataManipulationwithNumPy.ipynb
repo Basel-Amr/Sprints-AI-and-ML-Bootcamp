{
  "nbformat": 4,
  "nbformat_minor": 0,
  "metadata": {
    "colab": {
      "provenance": []
    },
    "kernelspec": {
      "name": "python3",
      "display_name": "Python 3"
    },
    "language_info": {
      "name": "python"
    }
  },
  "cells": [
    {
      "cell_type": "markdown",
      "source": [
        "# Basic and Advanced Data Manipulation with NumPy\n",
        "\n",
        "**Author:** Basel Amr Barakat  \n",
        "**Email:** baselamr52@gmail.com  \n",
        "**Date:** 2024-12-19  \n",
        "**Task Name:** Basic and Advanced Data Manipulation with NumPy  \n",
        "**Task Number:** 20  \n",
        "**Part:** Advanced NumPy  \n",
        "**Module:** Python Programming Language for AI / ML  \n",
        "**Submit Number:** 1\n",
        "\n",
        "---\n",
        "\n",
        "### **Description:**\n",
        "In this task, students will work with basic and advanced NumPy techniques. They will create, manipulate, and perform mathematical operations on NumPy arrays. The task also focuses on reshaping arrays, using Boolean indexing, and applying universal functions (ufuncs) for data analysis.\n",
        "\n",
        "---\n",
        "\n",
        "### **Requirements:**\n",
        "\n",
        "1. **Requirement 1: Creating and Manipulating NumPy Arrays**  \n",
        "   - **Description:**  \n",
        "     Students will create NumPy arrays from different data types (integers, floats, Booleans) and perform basic arithmetic operations (addition, subtraction, multiplication).\n",
        "\n",
        "2. **Requirement 2: Advanced Array Manipulation**  \n",
        "   - **Description:**  \n",
        "     Students will practice reshaping arrays and using Boolean indexing to filter array elements.\n",
        "\n",
        "3. **Requirement 3: Mathematical and Statistical Operations**  \n",
        "   - **Description:**  \n",
        "     Students will perform operations such as sum, mean, min, max, and other aggregation methods using NumPy.\n"
      ],
      "metadata": {
        "id": "-pJ0EM3lk32S"
      }
    },
    {
      "cell_type": "markdown",
      "source": [
        "# 📌 **1. Requirement 1**\n",
        "***Task Name :*** Creating and Manipulating NumPy Arrays.\n",
        "\n",
        "***Description :***  Students will create NumPy arrays from different data types (integers, floats, Booleans) and perform basic arithmetic operations (addition, subtraction, multiplication)."
      ],
      "metadata": {
        "id": "nymsHfWGl6xE"
      }
    },
    {
      "cell_type": "code",
      "execution_count": null,
      "metadata": {
        "colab": {
          "base_uri": "https://localhost:8080/"
        },
        "id": "tas8Q4MBknvU",
        "outputId": "ad681bb9-b96d-460f-e819-93d7c920195d"
      },
      "outputs": [
        {
          "output_type": "stream",
          "name": "stdout",
          "text": [
            "int_numpy_array: [1 2 3 4]\n",
            "float_numpy_array: [1.5 2.5 3.5 4.5]\n",
            "bool_numpy_array: [ True False  True False]\n",
            "summition_array: [2.5 4.5 6.5 8.5]\n",
            "subtraction_array: [-0.5 -0.5 -0.5 -0.5]\n",
            "multiplication_array: [ 1.5  5.  10.5 18. ]\n",
            "division_array: [0.66666667 0.8        0.85714286 0.88888889]\n",
            "element_one_int: 2\n",
            "element_one_float: 1.5\n",
            "element_one_bool: True\n"
          ]
        }
      ],
      "source": [
        "import numpy as np\n",
        "# Creating a NumPy arrays from different datatypes (integers, floats, Booleans)\n",
        "int_numpy_array = np.array([1, 2, 3, 4])\n",
        "float_numpy_array = np.array([1.5, 2.5, 3.5, 4.5])\n",
        "bool_numpy_array = np.array([True, False, True, False])\n",
        "\n",
        "# Performing basic arithmetic operations (addition, subtractionm, multiplication)\n",
        "# Addition\n",
        "summition_array = int_numpy_array + float_numpy_array\n",
        "# Subtraction\n",
        "subtraction_array = int_numpy_array - float_numpy_array\n",
        "# Multiplication\n",
        "multiplication_array = int_numpy_array * float_numpy_array\n",
        "# Division\n",
        "division_array = int_numpy_array / float_numpy_array\n",
        "\n",
        "# Acessing elemnts from array (indexing)\n",
        "element_one_int = int_numpy_array[1]         #-----> Accessing the second element in the int_numpy_array\n",
        "element_one_float = float_numpy_array[0]     #-----> Accessing the first element in the float_numpy_array\n",
        "element_one_bool = bool_numpy_array[2]       #-----> Accessing the third element in the bool_numpy_array\n",
        "\n",
        "# Displaying the results\n",
        "print(\"int_numpy_array:\", int_numpy_array)\n",
        "print(\"float_numpy_array:\", float_numpy_array)\n",
        "print(\"bool_numpy_array:\", bool_numpy_array)\n",
        "print(\"summition_array:\", summition_array)\n",
        "print(\"subtraction_array:\", subtraction_array)\n",
        "print(\"multiplication_array:\", multiplication_array)\n",
        "print(\"division_array:\", division_array)\n",
        "print(\"element_one_int:\", element_one_int)\n",
        "print(\"element_one_float:\", element_one_float)\n",
        "print(\"element_one_bool:\", element_one_bool)"
      ]
    },
    {
      "cell_type": "markdown",
      "source": [
        "# 📌 **2. Requirement 2**\n",
        "***Task Name :*** Advanced Array Manipulation.\n",
        "\n",
        "***Description :***  Students will practice reshaping arrays and using boolean indexing to filter array elements."
      ],
      "metadata": {
        "id": "KvjOsiPDoNDH"
      }
    },
    {
      "cell_type": "code",
      "source": [
        "# Reshaping arrays\n",
        "reshaped_array_34 = np.array([1, 2, 3, 4, 5, 6, 7, 8, 9, 10, 11, 12]).reshape(3, 4)  # Reshaping into a 3x4 array\n",
        "reshaped_array_43 = np.array([1, 2, 3, 4, 5, 6, 7, 8, 9, 10, 11, 12]).reshape(4, 3)  # Reshaping into a 4x3 array\n",
        "reshaped_array_2 = reshaped_array_34.reshape(2, -1)                                  # Reshaping into a 2x? array (automatically determined)\n",
        "\n",
        "# Stacking arrays (Vertical Stack and Horizontal Stack)\n",
        "vstack_array = np.vstack([reshaped_array_34, reshaped_array_34])\n",
        "hstack_array = np.hstack([reshaped_array_43, reshaped_array_43])\n",
        "\n",
        "# Splitting arrays (Split into 3 equal parts)\n",
        "split_array = np.split(reshaped_array_34, 3)          # Splitting reshaped_array into 3 parts\n",
        "\n",
        "# Boolean indexing (Filter elements greater than 5)\n",
        "filtered_array = reshaped_array_34[reshaped_array_34 > 5]  # Filtering elements greater than 5 and less than 10\n",
        "\n",
        "# Displaying results\n",
        "print(\"\\nReshaped Array (3x4):\")\n",
        "print(reshaped_array_34)\n",
        "print(\"\\nReshaped Array (4x3):\")\n",
        "print(reshaped_array_43)\n",
        "print(\"\\nReshaped Array (2x?):\")\n",
        "print(reshaped_array_2)\n",
        "\n",
        "print(\"\\nVertically Stacked Array:\")\n",
        "print(vstack_array)\n",
        "print(\"\\nHorizontally Stacked Array:\")\n",
        "print(hstack_array)\n",
        "print(\"\\nSplit Array (3 parts):\")\n",
        "print(split_array)\n",
        "print(\"\\nFiltered Array (elements greater than 5):\")\n",
        "print(filtered_array)"
      ],
      "metadata": {
        "colab": {
          "base_uri": "https://localhost:8080/"
        },
        "id": "DqQg5t2nn_7G",
        "outputId": "e5aa7eeb-8c32-41b1-b105-3de9a90c584b"
      },
      "execution_count": null,
      "outputs": [
        {
          "output_type": "stream",
          "name": "stdout",
          "text": [
            "\n",
            "Reshaped Array (3x4):\n",
            "[[ 1  2  3  4]\n",
            " [ 5  6  7  8]\n",
            " [ 9 10 11 12]]\n",
            "\n",
            "Reshaped Array (4x3):\n",
            "[[ 1  2  3]\n",
            " [ 4  5  6]\n",
            " [ 7  8  9]\n",
            " [10 11 12]]\n",
            "\n",
            "Reshaped Array (2x?):\n",
            "[[ 1  2  3  4  5  6]\n",
            " [ 7  8  9 10 11 12]]\n",
            "\n",
            "Vertically Stacked Array:\n",
            "[[ 1  2  3  4]\n",
            " [ 5  6  7  8]\n",
            " [ 9 10 11 12]\n",
            " [ 1  2  3  4]\n",
            " [ 5  6  7  8]\n",
            " [ 9 10 11 12]]\n",
            "\n",
            "Horizontally Stacked Array:\n",
            "[[ 1  2  3  1  2  3]\n",
            " [ 4  5  6  4  5  6]\n",
            " [ 7  8  9  7  8  9]\n",
            " [10 11 12 10 11 12]]\n",
            "\n",
            "Split Array (3 parts):\n",
            "[array([[1, 2, 3, 4]]), array([[5, 6, 7, 8]]), array([[ 9, 10, 11, 12]])]\n",
            "\n",
            "Filtered Array (elements greater than 5):\n",
            "[ 6  7  8  9 10 11 12]\n"
          ]
        }
      ]
    },
    {
      "cell_type": "markdown",
      "source": [
        "# 📌 **3. Requirement 3**\n",
        "***Task Name :*** Mathematical and Statistical Operations.\n",
        "\n",
        "***Description :***  Students will perform operations such as sum, mean, min, max, and other aggregation methods using NumPy."
      ],
      "metadata": {
        "id": "eDWrM9YEprAy"
      }
    },
    {
      "cell_type": "code",
      "source": [
        "# Performing sum, mean, min, max, etc., using NumPy\n",
        "array_for_operations = np.array([1, 2, 3, 4, 5, 6, 7, 8, 9, 10])\n",
        "\n",
        "total_sum = np.sum(array_for_operations)  # Sum of elements\n",
        "mean_value = np.mean(array_for_operations)  # Mean of elements\n",
        "min_value = np.min(array_for_operations)  # Minimum value\n",
        "max_value = np.max(array_for_operations)  # Maximum value\n",
        "std_dev = np.std(array_for_operations)  # Standard deviation\n",
        "# Another way to calculate STD\n",
        "std_dev_another_way = np.sqrt(np.sum((array_for_operations - np.mean(array_for_operations))**2/len(array_for_operations)))\n",
        "\n",
        "# Displaying results\n",
        "print(\"\\nMathematical and Statistical Operations:\")\n",
        "print(\"Total Sum:\", total_sum)\n",
        "print(\"Mean Value:\", mean_value)\n",
        "print(\"Minimum Value:\", min_value)\n",
        "print(\"Maximum Value:\", max_value)\n",
        "print(\"Standard Deviation:\", std_dev)\n",
        "print(\"Standard Deviation (Another Way):\", std_dev_another_way)"
      ],
      "metadata": {
        "colab": {
          "base_uri": "https://localhost:8080/"
        },
        "id": "XA_wV6pFpOLL",
        "outputId": "cc96037a-c55a-42bd-85d7-884d3a056868"
      },
      "execution_count": null,
      "outputs": [
        {
          "output_type": "stream",
          "name": "stdout",
          "text": [
            "\n",
            "Mathematical and Statistical Operations:\n",
            "Total Sum: 55\n",
            "Mean Value: 5.5\n",
            "Minimum Value: 1\n",
            "Maximum Value: 10\n",
            "Standard Deviation: 2.8722813232690143\n",
            "Standard Deviation (Another Way): 2.8722813232690143\n"
          ]
        }
      ]
    },
    {
      "cell_type": "markdown",
      "source": [
        "# 📚 **4. References**\n",
        "- NumPy Documentation: [https://numpy.org/doc/](https://numpy.org/doc/)\n"
      ],
      "metadata": {
        "id": "zAA5H9kQ_6QL"
      }
    }
  ]
}