{
  "nbformat": 4,
  "nbformat_minor": 0,
  "metadata": {
    "colab": {
      "provenance": []
    },
    "kernelspec": {
      "name": "python3",
      "display_name": "Python 3"
    },
    "language_info": {
      "name": "python"
    }
  },
  "cells": [
    {
      "cell_type": "markdown",
      "source": [
        "# Basic and Advanced Data Manipulation with NumPy\n",
        "\n",
        "**Author:** Basel Amr Barakat  \n",
        "**Email:** baselamr52@gmail.com  \n",
        "**Date:** 2024-12-19  \n",
        "**Task Name:**  Data Manipulation with Pandas and NumPy\n",
        "**Task Number:** 21  \n",
        "**Part:** Advanced Pandas  \n",
        "**Module:** Python Programming Language for AI / ML  \n",
        "**Submit Number:** 1\n",
        "\n",
        "---\n",
        "\n",
        "### **Description:**\n",
        "In this task,  students will work with both Pandas and NumPy together. They will create and manipulate Data Frames using Pandas, handle missing data, merge/join Data Frames, and apply NumPy functions for efficient data analysis.\n",
        "\n",
        "---\n",
        "\n",
        "### **Requirements:**\n",
        "\n",
        "1. **Requirement 1: Creating and Manipulating Pandas DataFrames**  \n",
        "   - **Description:**  \n",
        "     Students will create DataFrames from lists, dictionaries, and NumPy arrays. They will also practice selecting and filtering data in DataFrames.\n",
        "\n",
        "2. **Requirement 2: Handling Missing Data and Merging DataFrames**  \n",
        "   - **Description:**  \n",
        "     Students will learn techniques for handling missing data using .fillna() and .dropna(), and perform DataFrame merging and joining.\n",
        "\n",
        "3. **Requirement 3: Combining Pandas and NumPy for Analysis **  \n",
        "   - **Description:**  \n",
        "     Students will use NumPy functions to perform mathematical operations on Pandas DataFrames, such as aggregation, statistical analysis, and transforming data.\n"
      ],
      "metadata": {
        "id": "-pJ0EM3lk32S"
      }
    },
    {
      "cell_type": "markdown",
      "source": [
        "# 📝 **1. Introduction & Objective**\n",
        "# In this notebook, we will:\n",
        "# - Learn how to create and manipulate Pandas DataFrames.\n",
        "# - Handle missing data using `.fillna()` and `.dropna()`.\n",
        "# - Merge and join DataFrames efficiently.\n",
        "# - Utilize NumPy functions for mathematical operations on DataFrames."
      ],
      "metadata": {
        "id": "brT8FbjlmdZ5"
      }
    },
    {
      "cell_type": "markdown",
      "source": [
        "# 🚀 **2. Setting Up the Environment**\n",
        "# Importing necessary libraries"
      ],
      "metadata": {
        "id": "m5YuMLq7msKH"
      }
    },
    {
      "cell_type": "code",
      "source": [
        "import pandas as pd\n",
        "import numpy as np"
      ],
      "metadata": {
        "id": "4iRK0CSpmwzs"
      },
      "execution_count": null,
      "outputs": []
    },
    {
      "cell_type": "markdown",
      "source": [
        "# 📌 **3. Requirement 1: Creating and Manipulating Pandas DataFrames**\n",
        "***Description :***  Students will create DataFrames from lists, dictionaries, and NumPy arrays. They will also practice selecting and filtering data in DataFrames.\n"
      ],
      "metadata": {
        "id": "S1alpWHol9qs"
      }
    },
    {
      "cell_type": "markdown",
      "source": [
        "### 3.1 Create DataFrame from Lists\n"
      ],
      "metadata": {
        "id": "KPfo7HBdmQf-"
      }
    },
    {
      "cell_type": "code",
      "source": [
        "# Creating a simple DataFrame from lists\n",
        "data = [['Basel', 26], ['Omar', 25], ['Mohamed', 22],['Omar',26]]\n",
        "data_frame = pd.DataFrame(data, columns=['Name', 'Age'])\n",
        "data_frame.head(5)"
      ],
      "metadata": {
        "id": "pVFBl_agqz3T",
        "colab": {
          "base_uri": "https://localhost:8080/",
          "height": 175
        },
        "outputId": "95e5f5a4-beef-428c-f67d-1935f517d48a"
      },
      "execution_count": null,
      "outputs": [
        {
          "output_type": "execute_result",
          "data": {
            "text/plain": [
              "      Name  Age\n",
              "0    Basel   26\n",
              "1     Omar   25\n",
              "2  Mohamed   22\n",
              "3     Omar   26"
            ],
            "text/html": [
              "\n",
              "  <div id=\"df-3fd5c20e-c769-4ed6-9ff2-2ddc4c902bb7\" class=\"colab-df-container\">\n",
              "    <div>\n",
              "<style scoped>\n",
              "    .dataframe tbody tr th:only-of-type {\n",
              "        vertical-align: middle;\n",
              "    }\n",
              "\n",
              "    .dataframe tbody tr th {\n",
              "        vertical-align: top;\n",
              "    }\n",
              "\n",
              "    .dataframe thead th {\n",
              "        text-align: right;\n",
              "    }\n",
              "</style>\n",
              "<table border=\"1\" class=\"dataframe\">\n",
              "  <thead>\n",
              "    <tr style=\"text-align: right;\">\n",
              "      <th></th>\n",
              "      <th>Name</th>\n",
              "      <th>Age</th>\n",
              "    </tr>\n",
              "  </thead>\n",
              "  <tbody>\n",
              "    <tr>\n",
              "      <th>0</th>\n",
              "      <td>Basel</td>\n",
              "      <td>26</td>\n",
              "    </tr>\n",
              "    <tr>\n",
              "      <th>1</th>\n",
              "      <td>Omar</td>\n",
              "      <td>25</td>\n",
              "    </tr>\n",
              "    <tr>\n",
              "      <th>2</th>\n",
              "      <td>Mohamed</td>\n",
              "      <td>22</td>\n",
              "    </tr>\n",
              "    <tr>\n",
              "      <th>3</th>\n",
              "      <td>Omar</td>\n",
              "      <td>26</td>\n",
              "    </tr>\n",
              "  </tbody>\n",
              "</table>\n",
              "</div>\n",
              "    <div class=\"colab-df-buttons\">\n",
              "\n",
              "  <div class=\"colab-df-container\">\n",
              "    <button class=\"colab-df-convert\" onclick=\"convertToInteractive('df-3fd5c20e-c769-4ed6-9ff2-2ddc4c902bb7')\"\n",
              "            title=\"Convert this dataframe to an interactive table.\"\n",
              "            style=\"display:none;\">\n",
              "\n",
              "  <svg xmlns=\"http://www.w3.org/2000/svg\" height=\"24px\" viewBox=\"0 -960 960 960\">\n",
              "    <path d=\"M120-120v-720h720v720H120Zm60-500h600v-160H180v160Zm220 220h160v-160H400v160Zm0 220h160v-160H400v160ZM180-400h160v-160H180v160Zm440 0h160v-160H620v160ZM180-180h160v-160H180v160Zm440 0h160v-160H620v160Z\"/>\n",
              "  </svg>\n",
              "    </button>\n",
              "\n",
              "  <style>\n",
              "    .colab-df-container {\n",
              "      display:flex;\n",
              "      gap: 12px;\n",
              "    }\n",
              "\n",
              "    .colab-df-convert {\n",
              "      background-color: #E8F0FE;\n",
              "      border: none;\n",
              "      border-radius: 50%;\n",
              "      cursor: pointer;\n",
              "      display: none;\n",
              "      fill: #1967D2;\n",
              "      height: 32px;\n",
              "      padding: 0 0 0 0;\n",
              "      width: 32px;\n",
              "    }\n",
              "\n",
              "    .colab-df-convert:hover {\n",
              "      background-color: #E2EBFA;\n",
              "      box-shadow: 0px 1px 2px rgba(60, 64, 67, 0.3), 0px 1px 3px 1px rgba(60, 64, 67, 0.15);\n",
              "      fill: #174EA6;\n",
              "    }\n",
              "\n",
              "    .colab-df-buttons div {\n",
              "      margin-bottom: 4px;\n",
              "    }\n",
              "\n",
              "    [theme=dark] .colab-df-convert {\n",
              "      background-color: #3B4455;\n",
              "      fill: #D2E3FC;\n",
              "    }\n",
              "\n",
              "    [theme=dark] .colab-df-convert:hover {\n",
              "      background-color: #434B5C;\n",
              "      box-shadow: 0px 1px 3px 1px rgba(0, 0, 0, 0.15);\n",
              "      filter: drop-shadow(0px 1px 2px rgba(0, 0, 0, 0.3));\n",
              "      fill: #FFFFFF;\n",
              "    }\n",
              "  </style>\n",
              "\n",
              "    <script>\n",
              "      const buttonEl =\n",
              "        document.querySelector('#df-3fd5c20e-c769-4ed6-9ff2-2ddc4c902bb7 button.colab-df-convert');\n",
              "      buttonEl.style.display =\n",
              "        google.colab.kernel.accessAllowed ? 'block' : 'none';\n",
              "\n",
              "      async function convertToInteractive(key) {\n",
              "        const element = document.querySelector('#df-3fd5c20e-c769-4ed6-9ff2-2ddc4c902bb7');\n",
              "        const dataTable =\n",
              "          await google.colab.kernel.invokeFunction('convertToInteractive',\n",
              "                                                    [key], {});\n",
              "        if (!dataTable) return;\n",
              "\n",
              "        const docLinkHtml = 'Like what you see? Visit the ' +\n",
              "          '<a target=\"_blank\" href=https://colab.research.google.com/notebooks/data_table.ipynb>data table notebook</a>'\n",
              "          + ' to learn more about interactive tables.';\n",
              "        element.innerHTML = '';\n",
              "        dataTable['output_type'] = 'display_data';\n",
              "        await google.colab.output.renderOutput(dataTable, element);\n",
              "        const docLink = document.createElement('div');\n",
              "        docLink.innerHTML = docLinkHtml;\n",
              "        element.appendChild(docLink);\n",
              "      }\n",
              "    </script>\n",
              "  </div>\n",
              "\n",
              "\n",
              "<div id=\"df-54ea58d2-6b7a-4794-a457-e06cb95f140a\">\n",
              "  <button class=\"colab-df-quickchart\" onclick=\"quickchart('df-54ea58d2-6b7a-4794-a457-e06cb95f140a')\"\n",
              "            title=\"Suggest charts\"\n",
              "            style=\"display:none;\">\n",
              "\n",
              "<svg xmlns=\"http://www.w3.org/2000/svg\" height=\"24px\"viewBox=\"0 0 24 24\"\n",
              "     width=\"24px\">\n",
              "    <g>\n",
              "        <path d=\"M19 3H5c-1.1 0-2 .9-2 2v14c0 1.1.9 2 2 2h14c1.1 0 2-.9 2-2V5c0-1.1-.9-2-2-2zM9 17H7v-7h2v7zm4 0h-2V7h2v10zm4 0h-2v-4h2v4z\"/>\n",
              "    </g>\n",
              "</svg>\n",
              "  </button>\n",
              "\n",
              "<style>\n",
              "  .colab-df-quickchart {\n",
              "      --bg-color: #E8F0FE;\n",
              "      --fill-color: #1967D2;\n",
              "      --hover-bg-color: #E2EBFA;\n",
              "      --hover-fill-color: #174EA6;\n",
              "      --disabled-fill-color: #AAA;\n",
              "      --disabled-bg-color: #DDD;\n",
              "  }\n",
              "\n",
              "  [theme=dark] .colab-df-quickchart {\n",
              "      --bg-color: #3B4455;\n",
              "      --fill-color: #D2E3FC;\n",
              "      --hover-bg-color: #434B5C;\n",
              "      --hover-fill-color: #FFFFFF;\n",
              "      --disabled-bg-color: #3B4455;\n",
              "      --disabled-fill-color: #666;\n",
              "  }\n",
              "\n",
              "  .colab-df-quickchart {\n",
              "    background-color: var(--bg-color);\n",
              "    border: none;\n",
              "    border-radius: 50%;\n",
              "    cursor: pointer;\n",
              "    display: none;\n",
              "    fill: var(--fill-color);\n",
              "    height: 32px;\n",
              "    padding: 0;\n",
              "    width: 32px;\n",
              "  }\n",
              "\n",
              "  .colab-df-quickchart:hover {\n",
              "    background-color: var(--hover-bg-color);\n",
              "    box-shadow: 0 1px 2px rgba(60, 64, 67, 0.3), 0 1px 3px 1px rgba(60, 64, 67, 0.15);\n",
              "    fill: var(--button-hover-fill-color);\n",
              "  }\n",
              "\n",
              "  .colab-df-quickchart-complete:disabled,\n",
              "  .colab-df-quickchart-complete:disabled:hover {\n",
              "    background-color: var(--disabled-bg-color);\n",
              "    fill: var(--disabled-fill-color);\n",
              "    box-shadow: none;\n",
              "  }\n",
              "\n",
              "  .colab-df-spinner {\n",
              "    border: 2px solid var(--fill-color);\n",
              "    border-color: transparent;\n",
              "    border-bottom-color: var(--fill-color);\n",
              "    animation:\n",
              "      spin 1s steps(1) infinite;\n",
              "  }\n",
              "\n",
              "  @keyframes spin {\n",
              "    0% {\n",
              "      border-color: transparent;\n",
              "      border-bottom-color: var(--fill-color);\n",
              "      border-left-color: var(--fill-color);\n",
              "    }\n",
              "    20% {\n",
              "      border-color: transparent;\n",
              "      border-left-color: var(--fill-color);\n",
              "      border-top-color: var(--fill-color);\n",
              "    }\n",
              "    30% {\n",
              "      border-color: transparent;\n",
              "      border-left-color: var(--fill-color);\n",
              "      border-top-color: var(--fill-color);\n",
              "      border-right-color: var(--fill-color);\n",
              "    }\n",
              "    40% {\n",
              "      border-color: transparent;\n",
              "      border-right-color: var(--fill-color);\n",
              "      border-top-color: var(--fill-color);\n",
              "    }\n",
              "    60% {\n",
              "      border-color: transparent;\n",
              "      border-right-color: var(--fill-color);\n",
              "    }\n",
              "    80% {\n",
              "      border-color: transparent;\n",
              "      border-right-color: var(--fill-color);\n",
              "      border-bottom-color: var(--fill-color);\n",
              "    }\n",
              "    90% {\n",
              "      border-color: transparent;\n",
              "      border-bottom-color: var(--fill-color);\n",
              "    }\n",
              "  }\n",
              "</style>\n",
              "\n",
              "  <script>\n",
              "    async function quickchart(key) {\n",
              "      const quickchartButtonEl =\n",
              "        document.querySelector('#' + key + ' button');\n",
              "      quickchartButtonEl.disabled = true;  // To prevent multiple clicks.\n",
              "      quickchartButtonEl.classList.add('colab-df-spinner');\n",
              "      try {\n",
              "        const charts = await google.colab.kernel.invokeFunction(\n",
              "            'suggestCharts', [key], {});\n",
              "      } catch (error) {\n",
              "        console.error('Error during call to suggestCharts:', error);\n",
              "      }\n",
              "      quickchartButtonEl.classList.remove('colab-df-spinner');\n",
              "      quickchartButtonEl.classList.add('colab-df-quickchart-complete');\n",
              "    }\n",
              "    (() => {\n",
              "      let quickchartButtonEl =\n",
              "        document.querySelector('#df-54ea58d2-6b7a-4794-a457-e06cb95f140a button');\n",
              "      quickchartButtonEl.style.display =\n",
              "        google.colab.kernel.accessAllowed ? 'block' : 'none';\n",
              "    })();\n",
              "  </script>\n",
              "</div>\n",
              "\n",
              "    </div>\n",
              "  </div>\n"
            ],
            "application/vnd.google.colaboratory.intrinsic+json": {
              "type": "dataframe",
              "variable_name": "data_frame",
              "summary": "{\n  \"name\": \"data_frame\",\n  \"rows\": 4,\n  \"fields\": [\n    {\n      \"column\": \"Name\",\n      \"properties\": {\n        \"dtype\": \"string\",\n        \"num_unique_values\": 3,\n        \"samples\": [\n          \"Basel\",\n          \"Omar\",\n          \"Mohamed\"\n        ],\n        \"semantic_type\": \"\",\n        \"description\": \"\"\n      }\n    },\n    {\n      \"column\": \"Age\",\n      \"properties\": {\n        \"dtype\": \"number\",\n        \"std\": 1,\n        \"min\": 22,\n        \"max\": 26,\n        \"num_unique_values\": 3,\n        \"samples\": [\n          26,\n          25,\n          22\n        ],\n        \"semantic_type\": \"\",\n        \"description\": \"\"\n      }\n    }\n  ]\n}"
            }
          },
          "metadata": {},
          "execution_count": 38
        }
      ]
    },
    {
      "cell_type": "markdown",
      "source": [
        "### 3.2 Create DataFrame from Dictionary"
      ],
      "metadata": {
        "id": "SZkVm1j7n1D4"
      }
    },
    {
      "cell_type": "code",
      "source": [
        "# Creating a DataFrame from a dictionary\n",
        "data = {\n",
        "    'Name': ['Basel', 'Omar', 'Mohamed','Abanoub','Aya'],\n",
        "    'Age': [24, 27, 22,26,25],\n",
        "    'City': ['Cairo', 'Assuit', 'Alexandria','Cairo','Cairo']\n",
        "}\n",
        "df_dict = pd.DataFrame(data)\n",
        "print(df_dict)"
      ],
      "metadata": {
        "colab": {
          "base_uri": "https://localhost:8080/"
        },
        "id": "tk28lFLinf-v",
        "outputId": "0e9fbd09-79e5-482c-d889-4a0bc337842d"
      },
      "execution_count": null,
      "outputs": [
        {
          "output_type": "stream",
          "name": "stdout",
          "text": [
            "      Name  Age        City\n",
            "0    Basel   24       Cairo\n",
            "1     Omar   27      Assuit\n",
            "2  Mohamed   22  Alexandria\n",
            "3  Abanoub   26       Cairo\n",
            "4      Aya   25       Cairo\n"
          ]
        }
      ]
    },
    {
      "cell_type": "markdown",
      "source": [
        "### 3.3 Create DataFrame from NumPy Array"
      ],
      "metadata": {
        "id": "cGYGolgsoLVW"
      }
    },
    {
      "cell_type": "code",
      "source": [
        "# Creating a DataFrame from a NumPy array\n",
        "array = np.random.rand(5, 3)              # --->  Build a random numpy array 5x3 (5 rows and 3 columns)\n",
        "df_array = pd.DataFrame(array, columns=['Column1', 'Column2', 'Column3'])\n",
        "print(df_array)"
      ],
      "metadata": {
        "colab": {
          "base_uri": "https://localhost:8080/"
        },
        "id": "xtEMKxLHoISh",
        "outputId": "69203a00-e015-43a7-ea88-6c124bb76188"
      },
      "execution_count": null,
      "outputs": [
        {
          "output_type": "stream",
          "name": "stdout",
          "text": [
            "    Column1   Column2   Column3\n",
            "0  0.979463  0.381122  0.353856\n",
            "1  0.626203  0.680800  0.938583\n",
            "2  0.180458  0.101420  0.934608\n",
            "3  0.223734  0.747711  0.447831\n",
            "4  0.197296  0.572358  0.355112\n"
          ]
        }
      ]
    },
    {
      "cell_type": "markdown",
      "source": [
        "### 3.4 Data Selection and Filtering"
      ],
      "metadata": {
        "id": "akoolfDjo55Q"
      }
    },
    {
      "cell_type": "code",
      "source": [
        "# Selecting a single column\n",
        "print(\"Filtering the names only of the dataframe\")\n",
        "print(df_dict['Name'])\n",
        "\n",
        "# Filtering rows based on conditions\n",
        "filtered_df = df_dict[df_dict['Age'] > 25]\n",
        "print(\"Filtering the rows of age >25\")\n",
        "print(filtered_df)"
      ],
      "metadata": {
        "colab": {
          "base_uri": "https://localhost:8080/"
        },
        "id": "UeRqfXpsoPw9",
        "outputId": "f7b1fe64-b6a8-494b-b60a-53971fe85185"
      },
      "execution_count": null,
      "outputs": [
        {
          "output_type": "stream",
          "name": "stdout",
          "text": [
            "Filtering the names only of the dataframe\n",
            "0      Basel\n",
            "1       Omar\n",
            "2    Mohamed\n",
            "3    Abanoub\n",
            "4        Aya\n",
            "Name: Name, dtype: object\n",
            "Filtering the rows of age >25\n",
            "      Name  Age    City\n",
            "1     Omar   27  Assuit\n",
            "3  Abanoub   26   Cairo\n"
          ]
        }
      ]
    },
    {
      "cell_type": "markdown",
      "source": [
        "# 📌 **4. Requirement 2: Handling Missing Data and Merging DataFrames**\n",
        "***Description :***  Students will learn techniques for handling missing data using .fillna() and .dropna(), and perform DataFrame merging and joining.\n"
      ],
      "metadata": {
        "id": "rYEQVUZQpOmD"
      }
    },
    {
      "cell_type": "markdown",
      "source": [
        "### 4.1 Handling Missing Data"
      ],
      "metadata": {
        "id": "8dqGNU2NpfGW"
      }
    },
    {
      "cell_type": "code",
      "source": [
        "# Create a DataFrame with missing values\n",
        "data = {\n",
        "    'A': [1, 2, np.nan, 4,5,2,1,2,4,10],\n",
        "    'B': [5, np.nan, 7, 8,np.nan,1,3,2,2,1],\n",
        "    'C': [9, 10, 11, np.nan,np.nan,2,1,3,5,np.nan],\n",
        "    'D':[1,2,3,4,5,6,7,8,9,10],\n",
        "    'E':[11,22,31,41,51,61,71,81,91,101],\n",
        "    'F':([1,2,3,4,5,6,7,8,9,10]),\n",
        "    'G':[11,22,np.nan,41,51,np.nan,71,81,91,101]\n",
        "}\n",
        "\n",
        "df_missing = pd.DataFrame(data)\n",
        "print(\"Original DataFrame with missing values:\")\n",
        "print(df_missing)\n",
        "\n",
        "# Fill missing values\n",
        "df_filled = df_missing.fillna(0,inplace=False)\n",
        "print(\"After filling missing values:\")\n",
        "print(df_filled)\n",
        "\n",
        "# Drop missing values\n",
        "df_dropped = df_missing.dropna(axis=0,inplace=False)\n",
        "print(\"After dropping rows with missing values:\")\n",
        "print(df_dropped)\n",
        "\n",
        "df_dropped = df_missing.dropna(axis=1,inplace=False)\n",
        "print(\"After dropping columns with missing values:\")\n",
        "print(df_dropped)"
      ],
      "metadata": {
        "colab": {
          "base_uri": "https://localhost:8080/"
        },
        "id": "CVVt2DG-o9UG",
        "outputId": "d8c76559-4e14-4f41-cc45-a7f272edf10d"
      },
      "execution_count": null,
      "outputs": [
        {
          "output_type": "stream",
          "name": "stdout",
          "text": [
            "Original DataFrame with missing values:\n",
            "      A    B     C   D    E   F      G\n",
            "0   1.0  5.0   9.0   1   11   1   11.0\n",
            "1   2.0  NaN  10.0   2   22   2   22.0\n",
            "2   NaN  7.0  11.0   3   31   3    NaN\n",
            "3   4.0  8.0   NaN   4   41   4   41.0\n",
            "4   5.0  NaN   NaN   5   51   5   51.0\n",
            "5   2.0  1.0   2.0   6   61   6    NaN\n",
            "6   1.0  3.0   1.0   7   71   7   71.0\n",
            "7   2.0  2.0   3.0   8   81   8   81.0\n",
            "8   4.0  2.0   5.0   9   91   9   91.0\n",
            "9  10.0  1.0   NaN  10  101  10  101.0\n",
            "After filling missing values:\n",
            "      A    B     C   D    E   F      G\n",
            "0   1.0  5.0   9.0   1   11   1   11.0\n",
            "1   2.0  0.0  10.0   2   22   2   22.0\n",
            "2   0.0  7.0  11.0   3   31   3    0.0\n",
            "3   4.0  8.0   0.0   4   41   4   41.0\n",
            "4   5.0  0.0   0.0   5   51   5   51.0\n",
            "5   2.0  1.0   2.0   6   61   6    0.0\n",
            "6   1.0  3.0   1.0   7   71   7   71.0\n",
            "7   2.0  2.0   3.0   8   81   8   81.0\n",
            "8   4.0  2.0   5.0   9   91   9   91.0\n",
            "9  10.0  1.0   0.0  10  101  10  101.0\n",
            "After dropping rows with missing values:\n",
            "     A    B    C  D   E  F     G\n",
            "0  1.0  5.0  9.0  1  11  1  11.0\n",
            "6  1.0  3.0  1.0  7  71  7  71.0\n",
            "7  2.0  2.0  3.0  8  81  8  81.0\n",
            "8  4.0  2.0  5.0  9  91  9  91.0\n",
            "After dropping columns with missing values:\n",
            "    D    E   F\n",
            "0   1   11   1\n",
            "1   2   22   2\n",
            "2   3   31   3\n",
            "3   4   41   4\n",
            "4   5   51   5\n",
            "5   6   61   6\n",
            "6   7   71   7\n",
            "7   8   81   8\n",
            "8   9   91   9\n",
            "9  10  101  10\n"
          ]
        }
      ]
    },
    {
      "cell_type": "markdown",
      "source": [
        "### 4.2 Merging DataFrames"
      ],
      "metadata": {
        "id": "XMTpL-8qqtcf"
      }
    },
    {
      "cell_type": "code",
      "source": [
        "# Create two DataFrames for merging\n",
        "data1 = {'ID': [1, 2, 3], 'Name': ['Basel', 'Amr', 'Barakat']}\n",
        "data2 = {'ID': [1, 2, 4], 'Score': [85, 90, 95]}\n",
        "df1 = pd.DataFrame(data1)\n",
        "df2 = pd.DataFrame(data2)\n",
        "print(\"Before Merging the two dataframes\")\n",
        "print(df1)\n",
        "print(df2)\n",
        "# Merging on ID\n",
        "merged_df = pd.merge(df1, df2, on='ID', how='inner')\n",
        "print(\"Merged DataFrame:\")\n",
        "print(merged_df)\n",
        "print(\"We found that the two dataframes are merged together depending on col `ID` and that the ID 3 is not in the second dataframe\")\n",
        "print(\"We found that the two dataframes are merged together depending on col `ID` and that the ID 4 is not in the first dataframe\")"
      ],
      "metadata": {
        "colab": {
          "base_uri": "https://localhost:8080/"
        },
        "id": "m8tYOB3JptfQ",
        "outputId": "c6df0f8b-9d61-48ab-856c-d37bce993029"
      },
      "execution_count": null,
      "outputs": [
        {
          "output_type": "stream",
          "name": "stdout",
          "text": [
            "Before Merging the two dataframes\n",
            "   ID     Name\n",
            "0   1    Basel\n",
            "1   2      Amr\n",
            "2   3  Barakat\n",
            "   ID  Score\n",
            "0   1     85\n",
            "1   2     90\n",
            "2   4     95\n",
            "Merged DataFrame:\n",
            "   ID   Name  Score\n",
            "0   1  Basel     85\n",
            "1   2    Amr     90\n",
            "We found that the two dataframes are merged together depending on col `ID` and that the ID 3 is not in the second dataframe\n",
            "We found that the two dataframes are merged together depending on col `ID` and that the ID 4 is not in the first dataframe\n"
          ]
        }
      ]
    },
    {
      "cell_type": "markdown",
      "source": [
        "# 📌 **5. Requirement 3:  Combining Pandas and NumPy for Analysis**\n",
        "***Description :***  Students will use NumPy functions to perform mathematical operations on Pandas DataFrames, such as aggregation, statistical analysis, and transforming data.\n"
      ],
      "metadata": {
        "id": "PEwBLDX_rbn8"
      }
    },
    {
      "cell_type": "markdown",
      "source": [
        "### 5.1 Aggregations and Statistical Analysis"
      ],
      "metadata": {
        "id": "4eAaA68Ps2Iq"
      }
    },
    {
      "cell_type": "code",
      "source": [
        "# Creating a Sample DataFrame for Analysis\n",
        "data_analysis = {\n",
        "    'Product': ['A', 'B', 'C', 'D'],\n",
        "    'Sales_Price': [1000, 2500, 30000, 4000],\n",
        "    'Cost': [50, 80, 120, 150]\n",
        "}\n",
        "df_analysis = pd.DataFrame(data_analysis)\n",
        "print(\"\\nAnalysis DataFrame:\\n\", df_analysis)\n",
        "\n",
        "# Using NumPy for Mathematical Operations\n",
        "df_analysis['Profit'] = np.array(df_analysis['Sales_Price']) - np.array(df_analysis['Cost'])\n",
        "print(\"\\nDataFrame with Profit Calculated:\\n\", df_analysis)\n",
        "\n",
        "# Aggregation and Statistical Analysis\n",
        "mean_sales = np.mean(df_analysis['Sales_Price'])\n",
        "print(\"\\nMean Sales:\", mean_sales)\n",
        "\n",
        "total_cost = np.sum(df_analysis['Cost'])\n",
        "print(\"Total Cost:\", total_cost)\n",
        "\n",
        "max_profit = np.max(df_analysis['Profit'])\n",
        "print(\"Maximum Profit:\", max_profit)\n",
        "\n",
        "min_profit = np.min(df_analysis['Profit'])\n",
        "print(\"Minimum Profit:\", min_profit)\n",
        "\n",
        "median_profit = np.median(df_analysis['Profit'])\n",
        "print(\"Median Profit:\", median_profit)\n",
        "\n",
        "std_profit = np.std(df_analysis['Profit'])\n",
        "print(\"Standard Deviation of Profit:\", std_profit)\n",
        "\n",
        "df_analysis.describe()\n",
        "print(\"We have noticed that the std equation of NumPy is different from the equation of describe() \")"
      ],
      "metadata": {
        "colab": {
          "base_uri": "https://localhost:8080/"
        },
        "id": "9lZF_yPE1QkD",
        "outputId": "23a4a3a4-086b-4236-e0ab-4ece0aebb8f6"
      },
      "execution_count": 1,
      "outputs": [
        {
          "output_type": "stream",
          "name": "stdout",
          "text": [
            "\n",
            "Analysis DataFrame:\n",
            "   Product  Sales_Price  Cost\n",
            "0       A         1000    50\n",
            "1       B         2500    80\n",
            "2       C        30000   120\n",
            "3       D         4000   150\n",
            "\n",
            "DataFrame with Profit Calculated:\n",
            "   Product  Sales_Price  Cost  Profit\n",
            "0       A         1000    50     950\n",
            "1       B         2500    80    2420\n",
            "2       C        30000   120   29880\n",
            "3       D         4000   150    3850\n",
            "\n",
            "Mean Sales: 9375.0\n",
            "Total Cost: 400\n",
            "Maximum Profit: 29880\n",
            "Minimum Profit: 950\n",
            "Median Profit: 3135.0\n",
            "Standard Deviation of Profit: 11940.407237611287\n",
            "We have noticed that the std equation of NumPy is different from the equation of describe() \n"
          ]
        }
      ]
    },
    {
      "cell_type": "markdown",
      "source": [
        "### 5.2 Data Transformation"
      ],
      "metadata": {
        "id": "14zu0ctetmtq"
      }
    },
    {
      "cell_type": "code",
      "source": [
        "# Apply NumPy transformations\n",
        "data_analysis = {\n",
        "    'Sales': [1000, 2500, 30000, 4000],\n",
        "    'Cost': [50, 80, 120, 150]\n",
        "}\n",
        "df_analysis = pd.DataFrame(data_analysis)\n",
        "df_transformed_log = df_analysis.apply(np.log)\n",
        "print(\"Log Transformed DataFrame:\")\n",
        "print(df_transformed_log)\n",
        "\n",
        "df_transformed_sqrt = df_analysis.apply(np.sqrt)\n",
        "print(\"Square Root Transformed DataFrame:\")\n",
        "print(df_transformed_sqrt)\n",
        "\n",
        "df_tansformed_exp = df_analysis.apply(np.exp)\n",
        "print(\"Exponential Transformed DataFrame:\")\n",
        "print(df_tansformed_exp)\n",
        "\n",
        "df_transformed_sin = df_analysis.apply(np.sin)\n",
        "print(\"Sin Transformed DataFrame:\")\n",
        "print(df_transformed_sin)\n",
        "\n",
        "df_transformed_cos = df_analysis.apply(np.cos)\n",
        "print(\"Cos Transformed DataFrame:\")\n",
        "print(df_transformed_cos)\n",
        "\n",
        "df_transformed_tan = df_analysis.apply(np.tan)\n",
        "print(\"Tan Transformed DataFrame:\")\n",
        "print(df_transformed_tan)"
      ],
      "metadata": {
        "colab": {
          "base_uri": "https://localhost:8080/"
        },
        "id": "prJz2_dzs8j5",
        "outputId": "2412732b-c603-48cb-b3a4-7f17ae641c30"
      },
      "execution_count": null,
      "outputs": [
        {
          "output_type": "stream",
          "name": "stdout",
          "text": [
            "Log Transformed DataFrame:\n",
            "       Sales      Cost\n",
            "0   6.907755  3.912023\n",
            "1   7.824046  4.382027\n",
            "2  10.308953  4.787492\n",
            "3   8.294050  5.010635\n",
            "Square Root Transformed DataFrame:\n",
            "        Sales       Cost\n",
            "0   31.622777   7.071068\n",
            "1   50.000000   8.944272\n",
            "2  173.205081  10.954451\n",
            "3   63.245553  12.247449\n",
            "Exponential Transformed DataFrame:\n",
            "   Sales          Cost\n",
            "0    inf  5.184706e+21\n",
            "1    inf  5.540622e+34\n",
            "2    inf  1.304181e+52\n",
            "3    inf  1.393710e+65\n",
            "Sin Transformed DataFrame:\n",
            "      Sales      Cost\n",
            "0  0.826880 -0.262375\n",
            "1 -0.650128 -0.993889\n",
            "2 -0.802665  0.580611\n",
            "3 -0.683504 -0.714876\n",
            "Cos Transformed DataFrame:\n",
            "      Sales      Cost\n",
            "0  0.562379  0.964966\n",
            "1  0.759825 -0.110387\n",
            "2 -0.596430  0.814181\n",
            "3 -0.729947  0.699251\n",
            "Tan Transformed DataFrame:\n",
            "      Sales      Cost\n",
            "0  1.470324 -0.271901\n",
            "1 -0.855628  9.003655\n",
            "2  1.345784  0.713123\n",
            "3  0.936375 -1.022346\n"
          ]
        }
      ]
    },
    {
      "cell_type": "markdown",
      "source": [
        "#📌 **6. Requirement 4:  Plotting**"
      ],
      "metadata": {
        "id": "-oUmSDuiuEC1"
      }
    },
    {
      "cell_type": "code",
      "source": [
        "# Plot data\n",
        "import matplotlib.pyplot as plt\n",
        "data = {'A': [1, 2, 3, 4], 'B': [5, 6, 7, 8]}\n",
        "df_analysis = pd.DataFrame(data)\n",
        "\n",
        "plt.subplot(2, 2, 1)\n",
        "plt.plot(df_analysis['A'], df_analysis['B'])\n",
        "plt.title('Line Plot')\n",
        "\n",
        "plt.subplot(2, 2, 2)\n",
        "plt.scatter(df_analysis['A'], df_analysis['B'])\n",
        "plt.title('Scatter Plot')\n",
        "\n",
        "plt.subplot(2, 2, 3)\n",
        "plt.bar(df_analysis['A'], df_analysis['B'])\n",
        "plt.title('Bar Plot')\n",
        "\n",
        "plt.subplot(2, 2, 4)\n",
        "plt.hist(df_analysis['A'])\n",
        "plt.title('Histogram')\n",
        "\n",
        "plt.tight_layout()\n",
        "plt.show()"
      ],
      "metadata": {
        "colab": {
          "base_uri": "https://localhost:8080/",
          "height": 486
        },
        "id": "Sgqgr6g2tqBq",
        "outputId": "1c93abac-6e0a-42fb-9edc-e1a016c4c92a"
      },
      "execution_count": null,
      "outputs": [
        {
          "output_type": "display_data",
          "data": {
            "text/plain": [
              "<Figure size 640x480 with 4 Axes>"
            ],
            "image/png": "[encoded data removed]"
          },
          "metadata": {}
        }
      ]
    },
    {
      "cell_type": "markdown",
      "source": [
        "# 🎓 **7. Conclusion**\n",
        "- We created DataFrames from multiple sources.\n",
        "- Handled missing data effectively.\n",
        "- Performed merging and analysis using Pandas and NumPy.\n",
        "- Added visualizations for better insights."
      ],
      "metadata": {
        "id": "-iM_oeX7uk0x"
      }
    },
    {
      "cell_type": "markdown",
      "source": [
        "# 📚 **8. References**\n",
        "- Pandas Documentation: https://pandas.pydata.org/docs/\n",
        "- NumPy Documentation: https://numpy.org/doc/\n",
        "- Matplotlib Documentation: https://matplotlib.org/stable/index.html"
      ],
      "metadata": {
        "id": "O9H-Ko3auqxD"
      }
    }
  ]
}